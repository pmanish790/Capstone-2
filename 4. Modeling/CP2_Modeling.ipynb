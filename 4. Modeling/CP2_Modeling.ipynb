{
 "cells": [
  {
   "cell_type": "markdown",
   "metadata": {},
   "source": [
    "## Modeling"
   ]
  },
  {
   "cell_type": "code",
   "execution_count": 1,
   "metadata": {},
   "outputs": [],
   "source": [
    "import pandas as pd\n",
    "import seaborn as sns\n",
    "import numpy as np\n",
    "import matplotlib.pyplot as plt\n",
    "import pyarrow.parquet as pq\n",
    "from imblearn.over_sampling import SMOTE\n",
    "\n",
    "from sklearn.compose import ColumnTransformer\n",
    "from sklearn.preprocessing import OneHotEncoder, StandardScaler, MinMaxScaler\n",
    "from sklearn.linear_model import LogisticRegression\n",
    "from sklearn.naive_bayes import MultinomialNB\n",
    "\n",
    "from sklearn.model_selection import train_test_split, GridSearchCV\n",
    "from sklearn.feature_selection import SelectKBest, mutual_info_classif\n",
    "from sklearn.svm import SVC\n",
    "from sklearn.neighbors import KNeighborsClassifier\n",
    "from sklearn.ensemble import RandomForestClassifier, GradientBoostingClassifier, ExtraTreesClassifier,AdaBoostClassifier, BaggingClassifier\n",
    "from xgboost import XGBClassifier\n",
    "from sklearn.tree import DecisionTreeClassifier\n",
    "from sklearn.metrics import precision_score, confusion_matrix, accuracy_score, classification_report,ConfusionMatrixDisplay\n",
    "from pycaret.classification import setup, compare_models\n",
    "import lightgbm as lgb\n",
    "from sklearn.decomposition import PCA"
   ]
  },
  {
   "cell_type": "code",
   "execution_count": 2,
   "metadata": {},
   "outputs": [
    {
     "data": {
      "text/html": [
       "<div>\n",
       "<style scoped>\n",
       "    .dataframe tbody tr th:only-of-type {\n",
       "        vertical-align: middle;\n",
       "    }\n",
       "\n",
       "    .dataframe tbody tr th {\n",
       "        vertical-align: top;\n",
       "    }\n",
       "\n",
       "    .dataframe thead th {\n",
       "        text-align: right;\n",
       "    }\n",
       "</style>\n",
       "<table border=\"1\" class=\"dataframe\">\n",
       "  <thead>\n",
       "    <tr style=\"text-align: right;\">\n",
       "      <th></th>\n",
       "      <th>Month</th>\n",
       "      <th>DayOfWeek</th>\n",
       "      <th>Make</th>\n",
       "      <th>AccidentArea</th>\n",
       "      <th>DayOfWeekClaimed</th>\n",
       "      <th>MonthClaimed</th>\n",
       "      <th>Sex</th>\n",
       "      <th>MaritalStatus</th>\n",
       "      <th>Age</th>\n",
       "      <th>Fault</th>\n",
       "      <th>...</th>\n",
       "      <th>Deductible</th>\n",
       "      <th>DriverRating</th>\n",
       "      <th>Days_Policy_Accident</th>\n",
       "      <th>PastNumberOfClaims</th>\n",
       "      <th>PoliceReportFiled</th>\n",
       "      <th>WitnessPresent</th>\n",
       "      <th>AgentType</th>\n",
       "      <th>NumberOfSuppliments</th>\n",
       "      <th>NumberOfCars</th>\n",
       "      <th>BasePolicy</th>\n",
       "    </tr>\n",
       "  </thead>\n",
       "  <tbody>\n",
       "    <tr>\n",
       "      <th>0</th>\n",
       "      <td>Dec</td>\n",
       "      <td>Wednesday</td>\n",
       "      <td>Honda</td>\n",
       "      <td>Urban</td>\n",
       "      <td>Tuesday</td>\n",
       "      <td>Jan</td>\n",
       "      <td>Female</td>\n",
       "      <td>Single</td>\n",
       "      <td>21</td>\n",
       "      <td>Policy Holder</td>\n",
       "      <td>...</td>\n",
       "      <td>300</td>\n",
       "      <td>1</td>\n",
       "      <td>30</td>\n",
       "      <td>0</td>\n",
       "      <td>No</td>\n",
       "      <td>No</td>\n",
       "      <td>External</td>\n",
       "      <td>0</td>\n",
       "      <td>3</td>\n",
       "      <td>Liability</td>\n",
       "    </tr>\n",
       "    <tr>\n",
       "      <th>1</th>\n",
       "      <td>Jan</td>\n",
       "      <td>Wednesday</td>\n",
       "      <td>Honda</td>\n",
       "      <td>Urban</td>\n",
       "      <td>Monday</td>\n",
       "      <td>Jan</td>\n",
       "      <td>Male</td>\n",
       "      <td>Single</td>\n",
       "      <td>34</td>\n",
       "      <td>Policy Holder</td>\n",
       "      <td>...</td>\n",
       "      <td>400</td>\n",
       "      <td>4</td>\n",
       "      <td>30</td>\n",
       "      <td>0</td>\n",
       "      <td>Yes</td>\n",
       "      <td>No</td>\n",
       "      <td>External</td>\n",
       "      <td>0</td>\n",
       "      <td>1</td>\n",
       "      <td>Collision</td>\n",
       "    </tr>\n",
       "    <tr>\n",
       "      <th>2</th>\n",
       "      <td>Oct</td>\n",
       "      <td>Friday</td>\n",
       "      <td>Honda</td>\n",
       "      <td>Urban</td>\n",
       "      <td>Thursday</td>\n",
       "      <td>Nov</td>\n",
       "      <td>Male</td>\n",
       "      <td>Married</td>\n",
       "      <td>47</td>\n",
       "      <td>Policy Holder</td>\n",
       "      <td>...</td>\n",
       "      <td>400</td>\n",
       "      <td>3</td>\n",
       "      <td>30</td>\n",
       "      <td>1</td>\n",
       "      <td>No</td>\n",
       "      <td>No</td>\n",
       "      <td>External</td>\n",
       "      <td>0</td>\n",
       "      <td>1</td>\n",
       "      <td>Collision</td>\n",
       "    </tr>\n",
       "    <tr>\n",
       "      <th>3</th>\n",
       "      <td>Jun</td>\n",
       "      <td>Saturday</td>\n",
       "      <td>Toyota</td>\n",
       "      <td>Rural</td>\n",
       "      <td>Friday</td>\n",
       "      <td>Jul</td>\n",
       "      <td>Male</td>\n",
       "      <td>Married</td>\n",
       "      <td>65</td>\n",
       "      <td>Third Party</td>\n",
       "      <td>...</td>\n",
       "      <td>400</td>\n",
       "      <td>2</td>\n",
       "      <td>30</td>\n",
       "      <td>1</td>\n",
       "      <td>Yes</td>\n",
       "      <td>No</td>\n",
       "      <td>External</td>\n",
       "      <td>5</td>\n",
       "      <td>1</td>\n",
       "      <td>Liability</td>\n",
       "    </tr>\n",
       "    <tr>\n",
       "      <th>4</th>\n",
       "      <td>Jan</td>\n",
       "      <td>Monday</td>\n",
       "      <td>Honda</td>\n",
       "      <td>Urban</td>\n",
       "      <td>Tuesday</td>\n",
       "      <td>Feb</td>\n",
       "      <td>Female</td>\n",
       "      <td>Single</td>\n",
       "      <td>27</td>\n",
       "      <td>Third Party</td>\n",
       "      <td>...</td>\n",
       "      <td>400</td>\n",
       "      <td>1</td>\n",
       "      <td>30</td>\n",
       "      <td>0</td>\n",
       "      <td>No</td>\n",
       "      <td>No</td>\n",
       "      <td>External</td>\n",
       "      <td>0</td>\n",
       "      <td>1</td>\n",
       "      <td>Collision</td>\n",
       "    </tr>\n",
       "  </tbody>\n",
       "</table>\n",
       "<p>5 rows × 24 columns</p>\n",
       "</div>"
      ],
      "text/plain": [
       "  Month  DayOfWeek    Make AccidentArea DayOfWeekClaimed MonthClaimed     Sex  \\\n",
       "0   Dec  Wednesday   Honda        Urban          Tuesday          Jan  Female   \n",
       "1   Jan  Wednesday   Honda        Urban           Monday          Jan    Male   \n",
       "2   Oct     Friday   Honda        Urban         Thursday          Nov    Male   \n",
       "3   Jun   Saturday  Toyota        Rural           Friday          Jul    Male   \n",
       "4   Jan     Monday   Honda        Urban          Tuesday          Feb  Female   \n",
       "\n",
       "  MaritalStatus  Age          Fault  ... Deductible DriverRating  \\\n",
       "0        Single   21  Policy Holder  ...        300            1   \n",
       "1        Single   34  Policy Holder  ...        400            4   \n",
       "2       Married   47  Policy Holder  ...        400            3   \n",
       "3       Married   65    Third Party  ...        400            2   \n",
       "4        Single   27    Third Party  ...        400            1   \n",
       "\n",
       "   Days_Policy_Accident  PastNumberOfClaims  PoliceReportFiled  \\\n",
       "0                    30                   0                 No   \n",
       "1                    30                   0                Yes   \n",
       "2                    30                   1                 No   \n",
       "3                    30                   1                Yes   \n",
       "4                    30                   0                 No   \n",
       "\n",
       "   WitnessPresent  AgentType  NumberOfSuppliments NumberOfCars BasePolicy  \n",
       "0              No   External                    0            3  Liability  \n",
       "1              No   External                    0            1  Collision  \n",
       "2              No   External                    0            1  Collision  \n",
       "3              No   External                    5            1  Liability  \n",
       "4              No   External                    0            1  Collision  \n",
       "\n",
       "[5 rows x 24 columns]"
      ]
     },
     "execution_count": 2,
     "metadata": {},
     "output_type": "execute_result"
    }
   ],
   "source": [
    "# Load dataset\n",
    "df = pd.read_parquet('fraud_eda.parquet')\n",
    "df.head()"
   ]
  },
  {
   "cell_type": "code",
   "execution_count": 3,
   "metadata": {},
   "outputs": [],
   "source": [
    "df['Age_bins']=pd.cut(df.Age,bins=10,labels=range(1,11), retbins=False,include_lowest=True)\n",
    "\n",
    "# asign month name to number\n",
    "m = {'Jan':1,'Feb':2,'Mar':3,'Apr':4,'May':5,'Jun':6,'Jul':7,'Aug':8,'Sep':9,'Oct':10,'Nov':11,'Dec':12}\n",
    "df['Month'] = df['Month'].map(m)\n",
    "df['MonthClaimed']  = df['MonthClaimed'].map(m)\n",
    "\n",
    "# # asign week day to number\n",
    "doc = {'Monday':1,'Tuesday':2,'Wednesday':3,'Thursday':4,'Friday':5,'Saturday':6,'Sunday':7}\n",
    "df['DayOfWeekClaimed'] = df['DayOfWeekClaimed'].map(doc)\n",
    "df['DayOfWeek'] = df['DayOfWeek'].map(doc)\n",
    "\n",
    "make = {'Honda':1, 'Toyota':2, 'Ford':3, 'Mazda':4, 'Chevrolet':5, 'Pontiac':6,\n",
    "       'Accura':7, 'Dodge':8, 'Mercury':9, 'Jaguar':10, 'Nisson':11, 'VW':12, 'Saab':13,\n",
    "       'Saturn':14, 'Porche':15, 'BMW':16, 'Mecedes':17, 'Ferrari':18}\n",
    "df['Make'] = df['Make'].map(make)\n",
    "\n",
    "df.drop(columns='Age', inplace=True)\n"
   ]
  },
  {
   "cell_type": "code",
   "execution_count": 4,
   "metadata": {},
   "outputs": [],
   "source": [
    "# Drop none values\n",
    "df = df.dropna()"
   ]
  },
  {
   "cell_type": "code",
   "execution_count": 5,
   "metadata": {},
   "outputs": [],
   "source": [
    "# Seprate Traget variable from data\n",
    "X= df.drop(columns='FraudFound_P')\n",
    "y = df['FraudFound_P'] "
   ]
  },
  {
   "cell_type": "code",
   "execution_count": 6,
   "metadata": {},
   "outputs": [
    {
     "data": {
      "text/html": [
       "<div>\n",
       "<style scoped>\n",
       "    .dataframe tbody tr th:only-of-type {\n",
       "        vertical-align: middle;\n",
       "    }\n",
       "\n",
       "    .dataframe tbody tr th {\n",
       "        vertical-align: top;\n",
       "    }\n",
       "\n",
       "    .dataframe thead th {\n",
       "        text-align: right;\n",
       "    }\n",
       "</style>\n",
       "<table border=\"1\" class=\"dataframe\">\n",
       "  <thead>\n",
       "    <tr style=\"text-align: right;\">\n",
       "      <th></th>\n",
       "      <th>Month</th>\n",
       "      <th>DayOfWeek</th>\n",
       "      <th>Make</th>\n",
       "      <th>AccidentArea</th>\n",
       "      <th>DayOfWeekClaimed</th>\n",
       "      <th>MonthClaimed</th>\n",
       "      <th>Sex</th>\n",
       "      <th>MaritalStatus</th>\n",
       "      <th>Fault</th>\n",
       "      <th>PolicyType</th>\n",
       "      <th>...</th>\n",
       "      <th>DriverRating</th>\n",
       "      <th>Days_Policy_Accident</th>\n",
       "      <th>PastNumberOfClaims</th>\n",
       "      <th>PoliceReportFiled</th>\n",
       "      <th>WitnessPresent</th>\n",
       "      <th>AgentType</th>\n",
       "      <th>NumberOfSuppliments</th>\n",
       "      <th>NumberOfCars</th>\n",
       "      <th>BasePolicy</th>\n",
       "      <th>Age_bins</th>\n",
       "    </tr>\n",
       "  </thead>\n",
       "  <tbody>\n",
       "    <tr>\n",
       "      <th>0</th>\n",
       "      <td>12</td>\n",
       "      <td>3</td>\n",
       "      <td>1.0</td>\n",
       "      <td>Urban</td>\n",
       "      <td>2</td>\n",
       "      <td>1</td>\n",
       "      <td>Female</td>\n",
       "      <td>Single</td>\n",
       "      <td>Policy Holder</td>\n",
       "      <td>Sport - Liability</td>\n",
       "      <td>...</td>\n",
       "      <td>1</td>\n",
       "      <td>30</td>\n",
       "      <td>0</td>\n",
       "      <td>No</td>\n",
       "      <td>No</td>\n",
       "      <td>External</td>\n",
       "      <td>0</td>\n",
       "      <td>3</td>\n",
       "      <td>Liability</td>\n",
       "      <td>1</td>\n",
       "    </tr>\n",
       "    <tr>\n",
       "      <th>1</th>\n",
       "      <td>1</td>\n",
       "      <td>3</td>\n",
       "      <td>1.0</td>\n",
       "      <td>Urban</td>\n",
       "      <td>1</td>\n",
       "      <td>1</td>\n",
       "      <td>Male</td>\n",
       "      <td>Single</td>\n",
       "      <td>Policy Holder</td>\n",
       "      <td>Sport - Collision</td>\n",
       "      <td>...</td>\n",
       "      <td>4</td>\n",
       "      <td>30</td>\n",
       "      <td>0</td>\n",
       "      <td>Yes</td>\n",
       "      <td>No</td>\n",
       "      <td>External</td>\n",
       "      <td>0</td>\n",
       "      <td>1</td>\n",
       "      <td>Collision</td>\n",
       "      <td>3</td>\n",
       "    </tr>\n",
       "    <tr>\n",
       "      <th>2</th>\n",
       "      <td>10</td>\n",
       "      <td>5</td>\n",
       "      <td>1.0</td>\n",
       "      <td>Urban</td>\n",
       "      <td>4</td>\n",
       "      <td>11</td>\n",
       "      <td>Male</td>\n",
       "      <td>Married</td>\n",
       "      <td>Policy Holder</td>\n",
       "      <td>Sport - Collision</td>\n",
       "      <td>...</td>\n",
       "      <td>3</td>\n",
       "      <td>30</td>\n",
       "      <td>1</td>\n",
       "      <td>No</td>\n",
       "      <td>No</td>\n",
       "      <td>External</td>\n",
       "      <td>0</td>\n",
       "      <td>1</td>\n",
       "      <td>Collision</td>\n",
       "      <td>5</td>\n",
       "    </tr>\n",
       "    <tr>\n",
       "      <th>3</th>\n",
       "      <td>6</td>\n",
       "      <td>6</td>\n",
       "      <td>2.0</td>\n",
       "      <td>Rural</td>\n",
       "      <td>5</td>\n",
       "      <td>7</td>\n",
       "      <td>Male</td>\n",
       "      <td>Married</td>\n",
       "      <td>Third Party</td>\n",
       "      <td>Sedan - Liability</td>\n",
       "      <td>...</td>\n",
       "      <td>2</td>\n",
       "      <td>30</td>\n",
       "      <td>1</td>\n",
       "      <td>Yes</td>\n",
       "      <td>No</td>\n",
       "      <td>External</td>\n",
       "      <td>5</td>\n",
       "      <td>1</td>\n",
       "      <td>Liability</td>\n",
       "      <td>8</td>\n",
       "    </tr>\n",
       "    <tr>\n",
       "      <th>4</th>\n",
       "      <td>1</td>\n",
       "      <td>1</td>\n",
       "      <td>1.0</td>\n",
       "      <td>Urban</td>\n",
       "      <td>2</td>\n",
       "      <td>2</td>\n",
       "      <td>Female</td>\n",
       "      <td>Single</td>\n",
       "      <td>Third Party</td>\n",
       "      <td>Sport - Collision</td>\n",
       "      <td>...</td>\n",
       "      <td>1</td>\n",
       "      <td>30</td>\n",
       "      <td>0</td>\n",
       "      <td>No</td>\n",
       "      <td>No</td>\n",
       "      <td>External</td>\n",
       "      <td>0</td>\n",
       "      <td>1</td>\n",
       "      <td>Collision</td>\n",
       "      <td>2</td>\n",
       "    </tr>\n",
       "  </tbody>\n",
       "</table>\n",
       "<p>5 rows × 24 columns</p>\n",
       "</div>"
      ],
      "text/plain": [
       "   Month  DayOfWeek  Make AccidentArea  DayOfWeekClaimed  MonthClaimed  \\\n",
       "0     12          3   1.0        Urban                 2             1   \n",
       "1      1          3   1.0        Urban                 1             1   \n",
       "2     10          5   1.0        Urban                 4            11   \n",
       "3      6          6   2.0        Rural                 5             7   \n",
       "4      1          1   1.0        Urban                 2             2   \n",
       "\n",
       "      Sex MaritalStatus          Fault         PolicyType  ... DriverRating  \\\n",
       "0  Female        Single  Policy Holder  Sport - Liability  ...            1   \n",
       "1    Male        Single  Policy Holder  Sport - Collision  ...            4   \n",
       "2    Male       Married  Policy Holder  Sport - Collision  ...            3   \n",
       "3    Male       Married    Third Party  Sedan - Liability  ...            2   \n",
       "4  Female        Single    Third Party  Sport - Collision  ...            1   \n",
       "\n",
       "   Days_Policy_Accident  PastNumberOfClaims  PoliceReportFiled  \\\n",
       "0                    30                   0                 No   \n",
       "1                    30                   0                Yes   \n",
       "2                    30                   1                 No   \n",
       "3                    30                   1                Yes   \n",
       "4                    30                   0                 No   \n",
       "\n",
       "   WitnessPresent  AgentType  NumberOfSuppliments NumberOfCars BasePolicy  \\\n",
       "0              No   External                    0            3  Liability   \n",
       "1              No   External                    0            1  Collision   \n",
       "2              No   External                    0            1  Collision   \n",
       "3              No   External                    5            1  Liability   \n",
       "4              No   External                    0            1  Collision   \n",
       "\n",
       "  Age_bins  \n",
       "0        1  \n",
       "1        3  \n",
       "2        5  \n",
       "3        8  \n",
       "4        2  \n",
       "\n",
       "[5 rows x 24 columns]"
      ]
     },
     "execution_count": 6,
     "metadata": {},
     "output_type": "execute_result"
    }
   ],
   "source": [
    "df.head()"
   ]
  },
  {
   "cell_type": "code",
   "execution_count": 7,
   "metadata": {},
   "outputs": [],
   "source": [
    "# list of categorical and numerical columns\n",
    "ohe_col = [  'AccidentArea', 'Sex', 'MaritalStatus', 'Fault', 'PolicyType', 'VehicleCategory', 'PoliceReportFiled',\n",
    "           'WitnessPresent', 'AgentType', 'BasePolicy']\n",
    "\n",
    "std_col = ['Month','Make','DayOfWeek','DayOfWeekClaimed','VehiclePrice','Deductible', 'DriverRating','Days_Policy_Accident', 'PastNumberOfClaims',\n",
    "            'NumberOfSuppliments', 'NumberOfCars', 'Age_bins','MonthClaimed']"
   ]
  },
  {
   "cell_type": "markdown",
   "metadata": {},
   "source": [
    "### Apply One-Hot encoding and Standard scaler by using Column transformer\n"
   ]
  },
  {
   "cell_type": "code",
   "execution_count": 8,
   "metadata": {},
   "outputs": [],
   "source": [
    "ct = ColumnTransformer(transformers=[\n",
    "     ('tnf1',OneHotEncoder(sparse_output=False,drop='first'),ohe_col),\n",
    "     ('tnf2', StandardScaler(),std_col)], remainder='passthrough')\n",
    "X= ct.fit_transform(X)"
   ]
  },
  {
   "cell_type": "code",
   "execution_count": 9,
   "metadata": {},
   "outputs": [
    {
     "name": "stdout",
     "output_type": "stream",
     "text": [
      "['AccidentArea_Urban', 'Sex_Male', 'MaritalStatus_Married', 'MaritalStatus_Single', 'MaritalStatus_Widow', 'Fault_Third Party', 'PolicyType_Sedan - Collision', 'PolicyType_Sedan - Liability', 'PolicyType_Sport - All Perils', 'PolicyType_Sport - Collision', 'PolicyType_Sport - Liability', 'PolicyType_Utility - All Perils', 'PolicyType_Utility - Collision', 'PolicyType_Utility - Liability', 'VehicleCategory_Sport', 'VehicleCategory_Utility', 'PoliceReportFiled_Yes', 'WitnessPresent_Yes', 'AgentType_Internal', 'BasePolicy_Collision', 'BasePolicy_Liability']\n"
     ]
    }
   ],
   "source": [
    "# print new feature names afrer applying one-hot encoding\n",
    "ohe_col = ct.named_transformers_['tnf1'].get_feature_names_out().tolist()\n",
    "print(ohe_col)"
   ]
  },
  {
   "cell_type": "code",
   "execution_count": 10,
   "metadata": {},
   "outputs": [
    {
     "name": "stdout",
     "output_type": "stream",
     "text": [
      "(15044, 34) (15044,)\n"
     ]
    },
    {
     "data": {
      "text/html": [
       "<div>\n",
       "<style scoped>\n",
       "    .dataframe tbody tr th:only-of-type {\n",
       "        vertical-align: middle;\n",
       "    }\n",
       "\n",
       "    .dataframe tbody tr th {\n",
       "        vertical-align: top;\n",
       "    }\n",
       "\n",
       "    .dataframe thead tr th {\n",
       "        text-align: left;\n",
       "    }\n",
       "</style>\n",
       "<table border=\"1\" class=\"dataframe\">\n",
       "  <thead>\n",
       "    <tr>\n",
       "      <th></th>\n",
       "      <th>AccidentArea_Urban</th>\n",
       "      <th>Sex_Male</th>\n",
       "      <th>MaritalStatus_Married</th>\n",
       "      <th>MaritalStatus_Single</th>\n",
       "      <th>MaritalStatus_Widow</th>\n",
       "      <th>Fault_Third Party</th>\n",
       "      <th>PolicyType_Sedan - Collision</th>\n",
       "      <th>PolicyType_Sedan - Liability</th>\n",
       "      <th>PolicyType_Sport - All Perils</th>\n",
       "      <th>PolicyType_Sport - Collision</th>\n",
       "      <th>...</th>\n",
       "      <th>DayOfWeekClaimed</th>\n",
       "      <th>VehiclePrice</th>\n",
       "      <th>Deductible</th>\n",
       "      <th>DriverRating</th>\n",
       "      <th>Days_Policy_Accident</th>\n",
       "      <th>PastNumberOfClaims</th>\n",
       "      <th>NumberOfSuppliments</th>\n",
       "      <th>NumberOfCars</th>\n",
       "      <th>Age_bins</th>\n",
       "      <th>MonthClaimed</th>\n",
       "    </tr>\n",
       "  </thead>\n",
       "  <tbody>\n",
       "    <tr>\n",
       "      <th>0</th>\n",
       "      <td>1.0</td>\n",
       "      <td>0.0</td>\n",
       "      <td>0.0</td>\n",
       "      <td>1.0</td>\n",
       "      <td>0.0</td>\n",
       "      <td>0.0</td>\n",
       "      <td>0.0</td>\n",
       "      <td>0.0</td>\n",
       "      <td>0.0</td>\n",
       "      <td>0.0</td>\n",
       "      <td>...</td>\n",
       "      <td>-0.569257</td>\n",
       "      <td>2.499153</td>\n",
       "      <td>-2.426840</td>\n",
       "      <td>-1.329094</td>\n",
       "      <td>0.086545</td>\n",
       "      <td>-1.162546</td>\n",
       "      <td>-0.886116</td>\n",
       "      <td>4.724453</td>\n",
       "      <td>-1.717882</td>\n",
       "      <td>-1.564204</td>\n",
       "    </tr>\n",
       "    <tr>\n",
       "      <th>1</th>\n",
       "      <td>1.0</td>\n",
       "      <td>1.0</td>\n",
       "      <td>0.0</td>\n",
       "      <td>1.0</td>\n",
       "      <td>0.0</td>\n",
       "      <td>0.0</td>\n",
       "      <td>0.0</td>\n",
       "      <td>0.0</td>\n",
       "      <td>0.0</td>\n",
       "      <td>1.0</td>\n",
       "      <td>...</td>\n",
       "      <td>-1.257066</td>\n",
       "      <td>2.499153</td>\n",
       "      <td>-0.177479</td>\n",
       "      <td>1.348195</td>\n",
       "      <td>0.086545</td>\n",
       "      <td>-1.162546</td>\n",
       "      <td>-0.886116</td>\n",
       "      <td>-0.251023</td>\n",
       "      <td>-0.689375</td>\n",
       "      <td>-1.564204</td>\n",
       "    </tr>\n",
       "    <tr>\n",
       "      <th>2</th>\n",
       "      <td>1.0</td>\n",
       "      <td>1.0</td>\n",
       "      <td>1.0</td>\n",
       "      <td>0.0</td>\n",
       "      <td>0.0</td>\n",
       "      <td>0.0</td>\n",
       "      <td>0.0</td>\n",
       "      <td>0.0</td>\n",
       "      <td>0.0</td>\n",
       "      <td>1.0</td>\n",
       "      <td>...</td>\n",
       "      <td>0.806360</td>\n",
       "      <td>2.499153</td>\n",
       "      <td>-0.177479</td>\n",
       "      <td>0.455766</td>\n",
       "      <td>0.086545</td>\n",
       "      <td>-0.370851</td>\n",
       "      <td>-0.886116</td>\n",
       "      <td>-0.251023</td>\n",
       "      <td>0.339132</td>\n",
       "      <td>1.326620</td>\n",
       "    </tr>\n",
       "    <tr>\n",
       "      <th>3</th>\n",
       "      <td>0.0</td>\n",
       "      <td>1.0</td>\n",
       "      <td>1.0</td>\n",
       "      <td>0.0</td>\n",
       "      <td>0.0</td>\n",
       "      <td>1.0</td>\n",
       "      <td>0.0</td>\n",
       "      <td>1.0</td>\n",
       "      <td>0.0</td>\n",
       "      <td>0.0</td>\n",
       "      <td>...</td>\n",
       "      <td>1.494169</td>\n",
       "      <td>-0.575117</td>\n",
       "      <td>-0.177479</td>\n",
       "      <td>-0.436664</td>\n",
       "      <td>0.086545</td>\n",
       "      <td>-0.370851</td>\n",
       "      <td>1.506934</td>\n",
       "      <td>-0.251023</td>\n",
       "      <td>1.881893</td>\n",
       "      <td>0.170290</td>\n",
       "    </tr>\n",
       "    <tr>\n",
       "      <th>4</th>\n",
       "      <td>1.0</td>\n",
       "      <td>0.0</td>\n",
       "      <td>0.0</td>\n",
       "      <td>1.0</td>\n",
       "      <td>0.0</td>\n",
       "      <td>1.0</td>\n",
       "      <td>0.0</td>\n",
       "      <td>0.0</td>\n",
       "      <td>0.0</td>\n",
       "      <td>1.0</td>\n",
       "      <td>...</td>\n",
       "      <td>-0.569257</td>\n",
       "      <td>2.499153</td>\n",
       "      <td>-0.177479</td>\n",
       "      <td>-1.329094</td>\n",
       "      <td>0.086545</td>\n",
       "      <td>-1.162546</td>\n",
       "      <td>-0.886116</td>\n",
       "      <td>-0.251023</td>\n",
       "      <td>-1.203628</td>\n",
       "      <td>-1.275122</td>\n",
       "    </tr>\n",
       "  </tbody>\n",
       "</table>\n",
       "<p>5 rows × 34 columns</p>\n",
       "</div>"
      ],
      "text/plain": [
       "  AccidentArea_Urban Sex_Male MaritalStatus_Married MaritalStatus_Single  \\\n",
       "0                1.0      0.0                   0.0                  1.0   \n",
       "1                1.0      1.0                   0.0                  1.0   \n",
       "2                1.0      1.0                   1.0                  0.0   \n",
       "3                0.0      1.0                   1.0                  0.0   \n",
       "4                1.0      0.0                   0.0                  1.0   \n",
       "\n",
       "  MaritalStatus_Widow Fault_Third Party PolicyType_Sedan - Collision  \\\n",
       "0                 0.0               0.0                          0.0   \n",
       "1                 0.0               0.0                          0.0   \n",
       "2                 0.0               0.0                          0.0   \n",
       "3                 0.0               1.0                          0.0   \n",
       "4                 0.0               1.0                          0.0   \n",
       "\n",
       "  PolicyType_Sedan - Liability PolicyType_Sport - All Perils  \\\n",
       "0                          0.0                           0.0   \n",
       "1                          0.0                           0.0   \n",
       "2                          0.0                           0.0   \n",
       "3                          1.0                           0.0   \n",
       "4                          0.0                           0.0   \n",
       "\n",
       "  PolicyType_Sport - Collision  ... DayOfWeekClaimed VehiclePrice Deductible  \\\n",
       "0                          0.0  ...        -0.569257     2.499153  -2.426840   \n",
       "1                          1.0  ...        -1.257066     2.499153  -0.177479   \n",
       "2                          1.0  ...         0.806360     2.499153  -0.177479   \n",
       "3                          0.0  ...         1.494169    -0.575117  -0.177479   \n",
       "4                          1.0  ...        -0.569257     2.499153  -0.177479   \n",
       "\n",
       "  DriverRating Days_Policy_Accident PastNumberOfClaims NumberOfSuppliments  \\\n",
       "0    -1.329094             0.086545          -1.162546           -0.886116   \n",
       "1     1.348195             0.086545          -1.162546           -0.886116   \n",
       "2     0.455766             0.086545          -0.370851           -0.886116   \n",
       "3    -0.436664             0.086545          -0.370851            1.506934   \n",
       "4    -1.329094             0.086545          -1.162546           -0.886116   \n",
       "\n",
       "  NumberOfCars  Age_bins MonthClaimed  \n",
       "0     4.724453 -1.717882    -1.564204  \n",
       "1    -0.251023 -0.689375    -1.564204  \n",
       "2    -0.251023  0.339132     1.326620  \n",
       "3    -0.251023  1.881893     0.170290  \n",
       "4    -0.251023 -1.203628    -1.275122  \n",
       "\n",
       "[5 rows x 34 columns]"
      ]
     },
     "execution_count": 10,
     "metadata": {},
     "output_type": "execute_result"
    }
   ],
   "source": [
    "# convert X from array to data frame with new feature names\n",
    "X = pd.DataFrame(X, columns=[ohe_col+std_col])\n",
    "print(X.shape, y.shape)\n",
    "X.head() "
   ]
  },
  {
   "cell_type": "code",
   "execution_count": 11,
   "metadata": {},
   "outputs": [
    {
     "data": {
      "text/html": [
       "<div>\n",
       "<style scoped>\n",
       "    .dataframe tbody tr th:only-of-type {\n",
       "        vertical-align: middle;\n",
       "    }\n",
       "\n",
       "    .dataframe tbody tr th {\n",
       "        vertical-align: top;\n",
       "    }\n",
       "\n",
       "    .dataframe thead tr th {\n",
       "        text-align: left;\n",
       "    }\n",
       "</style>\n",
       "<table border=\"1\" class=\"dataframe\">\n",
       "  <thead>\n",
       "    <tr>\n",
       "      <th></th>\n",
       "      <th>AccidentArea_Urban</th>\n",
       "      <th>Sex_Male</th>\n",
       "      <th>MaritalStatus_Married</th>\n",
       "      <th>MaritalStatus_Single</th>\n",
       "      <th>MaritalStatus_Widow</th>\n",
       "      <th>Fault_Third Party</th>\n",
       "      <th>PolicyType_Sedan - Collision</th>\n",
       "      <th>PolicyType_Sedan - Liability</th>\n",
       "      <th>PolicyType_Sport - All Perils</th>\n",
       "      <th>PolicyType_Sport - Collision</th>\n",
       "      <th>...</th>\n",
       "      <th>PolicyType_Utility - All Perils</th>\n",
       "      <th>PolicyType_Utility - Collision</th>\n",
       "      <th>PolicyType_Utility - Liability</th>\n",
       "      <th>VehicleCategory_Sport</th>\n",
       "      <th>VehicleCategory_Utility</th>\n",
       "      <th>PoliceReportFiled_Yes</th>\n",
       "      <th>WitnessPresent_Yes</th>\n",
       "      <th>AgentType_Internal</th>\n",
       "      <th>BasePolicy_Collision</th>\n",
       "      <th>BasePolicy_Liability</th>\n",
       "    </tr>\n",
       "  </thead>\n",
       "  <tbody>\n",
       "    <tr>\n",
       "      <th>count</th>\n",
       "      <td>15044.000000</td>\n",
       "      <td>15044.000000</td>\n",
       "      <td>15044.000000</td>\n",
       "      <td>15044.000000</td>\n",
       "      <td>15044.000000</td>\n",
       "      <td>15044.000000</td>\n",
       "      <td>15044.000000</td>\n",
       "      <td>15044.000000</td>\n",
       "      <td>15044.000000</td>\n",
       "      <td>15044.000000</td>\n",
       "      <td>...</td>\n",
       "      <td>15044.000000</td>\n",
       "      <td>15044.000000</td>\n",
       "      <td>15044.000000</td>\n",
       "      <td>15044.000000</td>\n",
       "      <td>15044.000000</td>\n",
       "      <td>15044.000000</td>\n",
       "      <td>15044.000000</td>\n",
       "      <td>15044.000000</td>\n",
       "      <td>15044.000000</td>\n",
       "      <td>15044.000000</td>\n",
       "    </tr>\n",
       "    <tr>\n",
       "      <th>mean</th>\n",
       "      <td>0.897567</td>\n",
       "      <td>0.839803</td>\n",
       "      <td>0.703470</td>\n",
       "      <td>0.289218</td>\n",
       "      <td>0.002327</td>\n",
       "      <td>0.274262</td>\n",
       "      <td>0.365129</td>\n",
       "      <td>0.321989</td>\n",
       "      <td>0.000931</td>\n",
       "      <td>0.022667</td>\n",
       "      <td>...</td>\n",
       "      <td>0.021869</td>\n",
       "      <td>0.001994</td>\n",
       "      <td>0.001329</td>\n",
       "      <td>0.345653</td>\n",
       "      <td>0.025193</td>\n",
       "      <td>0.027652</td>\n",
       "      <td>0.005584</td>\n",
       "      <td>0.015953</td>\n",
       "      <td>0.389790</td>\n",
       "      <td>0.323385</td>\n",
       "    </tr>\n",
       "    <tr>\n",
       "      <th>std</th>\n",
       "      <td>0.303227</td>\n",
       "      <td>0.366801</td>\n",
       "      <td>0.456743</td>\n",
       "      <td>0.453415</td>\n",
       "      <td>0.048179</td>\n",
       "      <td>0.446157</td>\n",
       "      <td>0.481482</td>\n",
       "      <td>0.467254</td>\n",
       "      <td>0.030493</td>\n",
       "      <td>0.148844</td>\n",
       "      <td>...</td>\n",
       "      <td>0.146261</td>\n",
       "      <td>0.044613</td>\n",
       "      <td>0.036438</td>\n",
       "      <td>0.475596</td>\n",
       "      <td>0.156715</td>\n",
       "      <td>0.163980</td>\n",
       "      <td>0.074517</td>\n",
       "      <td>0.125299</td>\n",
       "      <td>0.487719</td>\n",
       "      <td>0.467784</td>\n",
       "    </tr>\n",
       "    <tr>\n",
       "      <th>min</th>\n",
       "      <td>0.000000</td>\n",
       "      <td>0.000000</td>\n",
       "      <td>0.000000</td>\n",
       "      <td>0.000000</td>\n",
       "      <td>0.000000</td>\n",
       "      <td>0.000000</td>\n",
       "      <td>0.000000</td>\n",
       "      <td>0.000000</td>\n",
       "      <td>0.000000</td>\n",
       "      <td>0.000000</td>\n",
       "      <td>...</td>\n",
       "      <td>0.000000</td>\n",
       "      <td>0.000000</td>\n",
       "      <td>0.000000</td>\n",
       "      <td>0.000000</td>\n",
       "      <td>0.000000</td>\n",
       "      <td>0.000000</td>\n",
       "      <td>0.000000</td>\n",
       "      <td>0.000000</td>\n",
       "      <td>0.000000</td>\n",
       "      <td>0.000000</td>\n",
       "    </tr>\n",
       "    <tr>\n",
       "      <th>25%</th>\n",
       "      <td>1.000000</td>\n",
       "      <td>1.000000</td>\n",
       "      <td>0.000000</td>\n",
       "      <td>0.000000</td>\n",
       "      <td>0.000000</td>\n",
       "      <td>0.000000</td>\n",
       "      <td>0.000000</td>\n",
       "      <td>0.000000</td>\n",
       "      <td>0.000000</td>\n",
       "      <td>0.000000</td>\n",
       "      <td>...</td>\n",
       "      <td>0.000000</td>\n",
       "      <td>0.000000</td>\n",
       "      <td>0.000000</td>\n",
       "      <td>0.000000</td>\n",
       "      <td>0.000000</td>\n",
       "      <td>0.000000</td>\n",
       "      <td>0.000000</td>\n",
       "      <td>0.000000</td>\n",
       "      <td>0.000000</td>\n",
       "      <td>0.000000</td>\n",
       "    </tr>\n",
       "    <tr>\n",
       "      <th>50%</th>\n",
       "      <td>1.000000</td>\n",
       "      <td>1.000000</td>\n",
       "      <td>1.000000</td>\n",
       "      <td>0.000000</td>\n",
       "      <td>0.000000</td>\n",
       "      <td>0.000000</td>\n",
       "      <td>0.000000</td>\n",
       "      <td>0.000000</td>\n",
       "      <td>0.000000</td>\n",
       "      <td>0.000000</td>\n",
       "      <td>...</td>\n",
       "      <td>0.000000</td>\n",
       "      <td>0.000000</td>\n",
       "      <td>0.000000</td>\n",
       "      <td>0.000000</td>\n",
       "      <td>0.000000</td>\n",
       "      <td>0.000000</td>\n",
       "      <td>0.000000</td>\n",
       "      <td>0.000000</td>\n",
       "      <td>0.000000</td>\n",
       "      <td>0.000000</td>\n",
       "    </tr>\n",
       "    <tr>\n",
       "      <th>75%</th>\n",
       "      <td>1.000000</td>\n",
       "      <td>1.000000</td>\n",
       "      <td>1.000000</td>\n",
       "      <td>1.000000</td>\n",
       "      <td>0.000000</td>\n",
       "      <td>1.000000</td>\n",
       "      <td>1.000000</td>\n",
       "      <td>1.000000</td>\n",
       "      <td>0.000000</td>\n",
       "      <td>0.000000</td>\n",
       "      <td>...</td>\n",
       "      <td>0.000000</td>\n",
       "      <td>0.000000</td>\n",
       "      <td>0.000000</td>\n",
       "      <td>1.000000</td>\n",
       "      <td>0.000000</td>\n",
       "      <td>0.000000</td>\n",
       "      <td>0.000000</td>\n",
       "      <td>0.000000</td>\n",
       "      <td>1.000000</td>\n",
       "      <td>1.000000</td>\n",
       "    </tr>\n",
       "    <tr>\n",
       "      <th>max</th>\n",
       "      <td>1.000000</td>\n",
       "      <td>1.000000</td>\n",
       "      <td>1.000000</td>\n",
       "      <td>1.000000</td>\n",
       "      <td>1.000000</td>\n",
       "      <td>1.000000</td>\n",
       "      <td>1.000000</td>\n",
       "      <td>1.000000</td>\n",
       "      <td>1.000000</td>\n",
       "      <td>1.000000</td>\n",
       "      <td>...</td>\n",
       "      <td>1.000000</td>\n",
       "      <td>1.000000</td>\n",
       "      <td>1.000000</td>\n",
       "      <td>1.000000</td>\n",
       "      <td>1.000000</td>\n",
       "      <td>1.000000</td>\n",
       "      <td>1.000000</td>\n",
       "      <td>1.000000</td>\n",
       "      <td>1.000000</td>\n",
       "      <td>1.000000</td>\n",
       "    </tr>\n",
       "  </tbody>\n",
       "</table>\n",
       "<p>8 rows × 21 columns</p>\n",
       "</div>"
      ],
      "text/plain": [
       "      AccidentArea_Urban      Sex_Male MaritalStatus_Married  \\\n",
       "count       15044.000000  15044.000000          15044.000000   \n",
       "mean            0.897567      0.839803              0.703470   \n",
       "std             0.303227      0.366801              0.456743   \n",
       "min             0.000000      0.000000              0.000000   \n",
       "25%             1.000000      1.000000              0.000000   \n",
       "50%             1.000000      1.000000              1.000000   \n",
       "75%             1.000000      1.000000              1.000000   \n",
       "max             1.000000      1.000000              1.000000   \n",
       "\n",
       "      MaritalStatus_Single MaritalStatus_Widow Fault_Third Party  \\\n",
       "count         15044.000000        15044.000000      15044.000000   \n",
       "mean              0.289218            0.002327          0.274262   \n",
       "std               0.453415            0.048179          0.446157   \n",
       "min               0.000000            0.000000          0.000000   \n",
       "25%               0.000000            0.000000          0.000000   \n",
       "50%               0.000000            0.000000          0.000000   \n",
       "75%               1.000000            0.000000          1.000000   \n",
       "max               1.000000            1.000000          1.000000   \n",
       "\n",
       "      PolicyType_Sedan - Collision PolicyType_Sedan - Liability  \\\n",
       "count                 15044.000000                 15044.000000   \n",
       "mean                      0.365129                     0.321989   \n",
       "std                       0.481482                     0.467254   \n",
       "min                       0.000000                     0.000000   \n",
       "25%                       0.000000                     0.000000   \n",
       "50%                       0.000000                     0.000000   \n",
       "75%                       1.000000                     1.000000   \n",
       "max                       1.000000                     1.000000   \n",
       "\n",
       "      PolicyType_Sport - All Perils PolicyType_Sport - Collision  ...  \\\n",
       "count                  15044.000000                 15044.000000  ...   \n",
       "mean                       0.000931                     0.022667  ...   \n",
       "std                        0.030493                     0.148844  ...   \n",
       "min                        0.000000                     0.000000  ...   \n",
       "25%                        0.000000                     0.000000  ...   \n",
       "50%                        0.000000                     0.000000  ...   \n",
       "75%                        0.000000                     0.000000  ...   \n",
       "max                        1.000000                     1.000000  ...   \n",
       "\n",
       "      PolicyType_Utility - All Perils PolicyType_Utility - Collision  \\\n",
       "count                    15044.000000                   15044.000000   \n",
       "mean                         0.021869                       0.001994   \n",
       "std                          0.146261                       0.044613   \n",
       "min                          0.000000                       0.000000   \n",
       "25%                          0.000000                       0.000000   \n",
       "50%                          0.000000                       0.000000   \n",
       "75%                          0.000000                       0.000000   \n",
       "max                          1.000000                       1.000000   \n",
       "\n",
       "      PolicyType_Utility - Liability VehicleCategory_Sport  \\\n",
       "count                   15044.000000          15044.000000   \n",
       "mean                        0.001329              0.345653   \n",
       "std                         0.036438              0.475596   \n",
       "min                         0.000000              0.000000   \n",
       "25%                         0.000000              0.000000   \n",
       "50%                         0.000000              0.000000   \n",
       "75%                         0.000000              1.000000   \n",
       "max                         1.000000              1.000000   \n",
       "\n",
       "      VehicleCategory_Utility PoliceReportFiled_Yes WitnessPresent_Yes  \\\n",
       "count            15044.000000          15044.000000       15044.000000   \n",
       "mean                 0.025193              0.027652           0.005584   \n",
       "std                  0.156715              0.163980           0.074517   \n",
       "min                  0.000000              0.000000           0.000000   \n",
       "25%                  0.000000              0.000000           0.000000   \n",
       "50%                  0.000000              0.000000           0.000000   \n",
       "75%                  0.000000              0.000000           0.000000   \n",
       "max                  1.000000              1.000000           1.000000   \n",
       "\n",
       "      AgentType_Internal BasePolicy_Collision BasePolicy_Liability  \n",
       "count       15044.000000         15044.000000         15044.000000  \n",
       "mean            0.015953             0.389790             0.323385  \n",
       "std             0.125299             0.487719             0.467784  \n",
       "min             0.000000             0.000000             0.000000  \n",
       "25%             0.000000             0.000000             0.000000  \n",
       "50%             0.000000             0.000000             0.000000  \n",
       "75%             0.000000             1.000000             1.000000  \n",
       "max             1.000000             1.000000             1.000000  \n",
       "\n",
       "[8 rows x 21 columns]"
      ]
     },
     "execution_count": 11,
     "metadata": {},
     "output_type": "execute_result"
    }
   ],
   "source": [
    "X[ohe_col].describe()"
   ]
  },
  {
   "cell_type": "code",
   "execution_count": 12,
   "metadata": {},
   "outputs": [
    {
     "data": {
      "text/plain": [
       "Month                   1.000033\n",
       "Make                    1.000033\n",
       "DayOfWeek               1.000033\n",
       "DayOfWeekClaimed        1.000033\n",
       "VehiclePrice            1.000033\n",
       "Deductible              1.000033\n",
       "DriverRating            1.000033\n",
       "Days_Policy_Accident    1.000033\n",
       "PastNumberOfClaims      1.000033\n",
       "NumberOfSuppliments     1.000033\n",
       "NumberOfCars            1.000033\n",
       "Age_bins                1.000033\n",
       "MonthClaimed            1.000033\n",
       "dtype: float64"
      ]
     },
     "execution_count": 12,
     "metadata": {},
     "output_type": "execute_result"
    }
   ],
   "source": [
    "# checking standad deviation\n",
    "X[std_col].std()"
   ]
  },
  {
   "cell_type": "code",
   "execution_count": 13,
   "metadata": {},
   "outputs": [
    {
     "data": {
      "text/plain": [
       "Month                   1.884309e-15\n",
       "Make                    1.710499e-16\n",
       "DayOfWeek               2.656373e-17\n",
       "DayOfWeekClaimed       -8.265420e-19\n",
       "VehiclePrice            3.839391e-15\n",
       "Deductible              4.713024e-16\n",
       "DriverRating            7.096749e-16\n",
       "Days_Policy_Accident    5.279555e-16\n",
       "PastNumberOfClaims     -4.154850e-16\n",
       "NumberOfSuppliments    -1.043509e-16\n",
       "NumberOfCars            4.961687e-16\n",
       "Age_bins                7.835766e-16\n",
       "MonthClaimed           -5.025582e-15\n",
       "dtype: float64"
      ]
     },
     "execution_count": 13,
     "metadata": {},
     "output_type": "execute_result"
    }
   ],
   "source": [
    "# checking mean\n",
    "X[std_col].mean()"
   ]
  },
  {
   "cell_type": "markdown",
   "metadata": {},
   "source": [
    "### Feature selecting - feature importance from RandomForest"
   ]
  },
  {
   "cell_type": "code",
   "execution_count": 14,
   "metadata": {},
   "outputs": [
    {
     "data": {
      "text/html": [
       "<style>#sk-container-id-1 {color: black;background-color: white;}#sk-container-id-1 pre{padding: 0;}#sk-container-id-1 div.sk-toggleable {background-color: white;}#sk-container-id-1 label.sk-toggleable__label {cursor: pointer;display: block;width: 100%;margin-bottom: 0;padding: 0.3em;box-sizing: border-box;text-align: center;}#sk-container-id-1 label.sk-toggleable__label-arrow:before {content: \"▸\";float: left;margin-right: 0.25em;color: #696969;}#sk-container-id-1 label.sk-toggleable__label-arrow:hover:before {color: black;}#sk-container-id-1 div.sk-estimator:hover label.sk-toggleable__label-arrow:before {color: black;}#sk-container-id-1 div.sk-toggleable__content {max-height: 0;max-width: 0;overflow: hidden;text-align: left;background-color: #f0f8ff;}#sk-container-id-1 div.sk-toggleable__content pre {margin: 0.2em;color: black;border-radius: 0.25em;background-color: #f0f8ff;}#sk-container-id-1 input.sk-toggleable__control:checked~div.sk-toggleable__content {max-height: 200px;max-width: 100%;overflow: auto;}#sk-container-id-1 input.sk-toggleable__control:checked~label.sk-toggleable__label-arrow:before {content: \"▾\";}#sk-container-id-1 div.sk-estimator input.sk-toggleable__control:checked~label.sk-toggleable__label {background-color: #d4ebff;}#sk-container-id-1 div.sk-label input.sk-toggleable__control:checked~label.sk-toggleable__label {background-color: #d4ebff;}#sk-container-id-1 input.sk-hidden--visually {border: 0;clip: rect(1px 1px 1px 1px);clip: rect(1px, 1px, 1px, 1px);height: 1px;margin: -1px;overflow: hidden;padding: 0;position: absolute;width: 1px;}#sk-container-id-1 div.sk-estimator {font-family: monospace;background-color: #f0f8ff;border: 1px dotted black;border-radius: 0.25em;box-sizing: border-box;margin-bottom: 0.5em;}#sk-container-id-1 div.sk-estimator:hover {background-color: #d4ebff;}#sk-container-id-1 div.sk-parallel-item::after {content: \"\";width: 100%;border-bottom: 1px solid gray;flex-grow: 1;}#sk-container-id-1 div.sk-label:hover label.sk-toggleable__label {background-color: #d4ebff;}#sk-container-id-1 div.sk-serial::before {content: \"\";position: absolute;border-left: 1px solid gray;box-sizing: border-box;top: 0;bottom: 0;left: 50%;z-index: 0;}#sk-container-id-1 div.sk-serial {display: flex;flex-direction: column;align-items: center;background-color: white;padding-right: 0.2em;padding-left: 0.2em;position: relative;}#sk-container-id-1 div.sk-item {position: relative;z-index: 1;}#sk-container-id-1 div.sk-parallel {display: flex;align-items: stretch;justify-content: center;background-color: white;position: relative;}#sk-container-id-1 div.sk-item::before, #sk-container-id-1 div.sk-parallel-item::before {content: \"\";position: absolute;border-left: 1px solid gray;box-sizing: border-box;top: 0;bottom: 0;left: 50%;z-index: -1;}#sk-container-id-1 div.sk-parallel-item {display: flex;flex-direction: column;z-index: 1;position: relative;background-color: white;}#sk-container-id-1 div.sk-parallel-item:first-child::after {align-self: flex-end;width: 50%;}#sk-container-id-1 div.sk-parallel-item:last-child::after {align-self: flex-start;width: 50%;}#sk-container-id-1 div.sk-parallel-item:only-child::after {width: 0;}#sk-container-id-1 div.sk-dashed-wrapped {border: 1px dashed gray;margin: 0 0.4em 0.5em 0.4em;box-sizing: border-box;padding-bottom: 0.4em;background-color: white;}#sk-container-id-1 div.sk-label label {font-family: monospace;font-weight: bold;display: inline-block;line-height: 1.2em;}#sk-container-id-1 div.sk-label-container {text-align: center;}#sk-container-id-1 div.sk-container {/* jupyter's `normalize.less` sets `[hidden] { display: none; }` but bootstrap.min.css set `[hidden] { display: none !important; }` so we also need the `!important` here to be able to override the default hidden behavior on the sphinx rendered scikit-learn.org. See: https://github.com/scikit-learn/scikit-learn/issues/21755 */display: inline-block !important;position: relative;}#sk-container-id-1 div.sk-text-repr-fallback {display: none;}</style><div id=\"sk-container-id-1\" class=\"sk-top-container\"><div class=\"sk-text-repr-fallback\"><pre>RandomForestClassifier(n_estimators=5, random_state=124)</pre><b>In a Jupyter environment, please rerun this cell to show the HTML representation or trust the notebook. <br />On GitHub, the HTML representation is unable to render, please try loading this page with nbviewer.org.</b></div><div class=\"sk-container\" hidden><div class=\"sk-item\"><div class=\"sk-estimator sk-toggleable\"><input class=\"sk-toggleable__control sk-hidden--visually\" id=\"sk-estimator-id-1\" type=\"checkbox\" checked><label for=\"sk-estimator-id-1\" class=\"sk-toggleable__label sk-toggleable__label-arrow\">RandomForestClassifier</label><div class=\"sk-toggleable__content\"><pre>RandomForestClassifier(n_estimators=5, random_state=124)</pre></div></div></div></div></div>"
      ],
      "text/plain": [
       "RandomForestClassifier(n_estimators=5, random_state=124)"
      ]
     },
     "execution_count": 14,
     "metadata": {},
     "output_type": "execute_result"
    }
   ],
   "source": [
    "rf = RandomForestClassifier(n_estimators=5,random_state=124)\n",
    "rf.fit(X,y)"
   ]
  },
  {
   "cell_type": "code",
   "execution_count": 15,
   "metadata": {},
   "outputs": [
    {
     "data": {
      "text/plain": [
       "<AxesSubplot: >"
      ]
     },
     "execution_count": 15,
     "metadata": {},
     "output_type": "execute_result"
    },
    {
     "data": {
      "image/png": "[encoded data removed]",
      "text/plain": [
       "<Figure size 1000x400 with 1 Axes>"
      ]
     },
     "metadata": {},
     "output_type": "display_data"
    }
   ],
   "source": [
    "feature_importance = pd.DataFrame(rf.feature_importances_, index=X.columns,columns = ['importance'])\n",
    "feature_importance.sort_values('importance',ascending=False).plot.bar(figsize=(10,4))"
   ]
  },
  {
   "cell_type": "code",
   "execution_count": 16,
   "metadata": {},
   "outputs": [
    {
     "data": {
      "text/html": [
       "<div>\n",
       "<style scoped>\n",
       "    .dataframe tbody tr th:only-of-type {\n",
       "        vertical-align: middle;\n",
       "    }\n",
       "\n",
       "    .dataframe tbody tr th {\n",
       "        vertical-align: top;\n",
       "    }\n",
       "\n",
       "    .dataframe thead th {\n",
       "        text-align: right;\n",
       "    }\n",
       "</style>\n",
       "<table border=\"1\" class=\"dataframe\">\n",
       "  <thead>\n",
       "    <tr style=\"text-align: right;\">\n",
       "      <th></th>\n",
       "      <th>importance</th>\n",
       "    </tr>\n",
       "  </thead>\n",
       "  <tbody>\n",
       "    <tr>\n",
       "      <th>MonthClaimed</th>\n",
       "      <td>0.101240</td>\n",
       "    </tr>\n",
       "    <tr>\n",
       "      <th>Age_bins</th>\n",
       "      <td>0.100154</td>\n",
       "    </tr>\n",
       "    <tr>\n",
       "      <th>Month</th>\n",
       "      <td>0.095319</td>\n",
       "    </tr>\n",
       "    <tr>\n",
       "      <th>Make</th>\n",
       "      <td>0.094279</td>\n",
       "    </tr>\n",
       "    <tr>\n",
       "      <th>DayOfWeekClaimed</th>\n",
       "      <td>0.089060</td>\n",
       "    </tr>\n",
       "  </tbody>\n",
       "</table>\n",
       "</div>"
      ],
      "text/plain": [
       "                  importance\n",
       "MonthClaimed        0.101240\n",
       "Age_bins            0.100154\n",
       "Month               0.095319\n",
       "Make                0.094279\n",
       "DayOfWeekClaimed    0.089060"
      ]
     },
     "execution_count": 16,
     "metadata": {},
     "output_type": "execute_result"
    }
   ],
   "source": [
    "new_features = feature_importance[feature_importance.importance>0].index\n",
    "feature_importance.sort_values(by ='importance', ascending = False ).head()"
   ]
  },
  {
   "cell_type": "code",
   "execution_count": 17,
   "metadata": {},
   "outputs": [
    {
     "data": {
      "text/plain": [
       "importance    33\n",
       "dtype: int64"
      ]
     },
     "execution_count": 17,
     "metadata": {},
     "output_type": "execute_result"
    }
   ],
   "source": [
    "feature_importance[feature_importance>0].count()"
   ]
  },
  {
   "cell_type": "markdown",
   "metadata": {},
   "source": [
    "### Selecting best features and spliting data into training and testing and validation subsets"
   ]
  },
  {
   "cell_type": "code",
   "execution_count": 18,
   "metadata": {},
   "outputs": [
    {
     "data": {
      "text/plain": [
       "((14291, 34), (753, 34))"
      ]
     },
     "execution_count": 18,
     "metadata": {},
     "output_type": "execute_result"
    }
   ],
   "source": [
    "# Devide data in to train and test\n",
    "X_train, X_test, y_train, y_test = train_test_split(X,y, test_size=0.05, random_state=123)\n",
    "X_train.shape, X_test.shape"
   ]
  },
  {
   "cell_type": "code",
   "execution_count": 19,
   "metadata": {},
   "outputs": [
    {
     "data": {
      "text/plain": [
       "0    13451\n",
       "1      840\n",
       "Name: FraudFound_P, dtype: int64"
      ]
     },
     "execution_count": 19,
     "metadata": {},
     "output_type": "execute_result"
    }
   ],
   "source": [
    "# target variable is unbalanced classified\n",
    "y_train.value_counts()"
   ]
  },
  {
   "cell_type": "markdown",
   "metadata": {},
   "source": [
    "### Over sampling using ADASYN"
   ]
  },
  {
   "cell_type": "code",
   "execution_count": 20,
   "metadata": {},
   "outputs": [
    {
     "name": "stdout",
     "output_type": "stream",
     "text": [
      "Resampled dataset shape Counter({1: 13477, 0: 13451})\n"
     ]
    }
   ],
   "source": [
    "#Over sampling using imblearn librery\n",
    "from collections import Counter\n",
    "# from sklearn.datasets import make_classification\n",
    "from imblearn.over_sampling import ADASYN\n",
    "\n",
    "\n",
    "ada = ADASYN(random_state=43)\n",
    "X_train_ad, y_train_ad = ada.fit_resample(X_train, y_train)\n",
    "# X_test, y_test = ada.fit_resample(X_test, y_test)\n",
    "print('Resampled dataset shape %s' % Counter(y_train_ad))\n",
    "\n"
   ]
  },
  {
   "cell_type": "markdown",
   "metadata": {},
   "source": [
    "### Modeling\n",
    "\n",
    "### Compair models\n"
   ]
  },
  {
   "cell_type": "code",
   "execution_count": 21,
   "metadata": {},
   "outputs": [],
   "source": [
    "data = pd.concat([X_train_ad, y_train_ad],axis=1)\n",
    "data2= pd.concat([X_test, y_test],axis=1)\n",
    "data_com = pd.concat([data,data2],axis =0)"
   ]
  },
  {
   "cell_type": "code",
   "execution_count": 22,
   "metadata": {},
   "outputs": [
    {
     "data": {
      "text/html": [
       "<style type=\"text/css\">\n",
       "#T_7413e_row8_col1 {\n",
       "  background-color: lightgreen;\n",
       "}\n",
       "</style>\n",
       "<table id=\"T_7413e\">\n",
       "  <thead>\n",
       "    <tr>\n",
       "      <th class=\"blank level0\" >&nbsp;</th>\n",
       "      <th id=\"T_7413e_level0_col0\" class=\"col_heading level0 col0\" >Description</th>\n",
       "      <th id=\"T_7413e_level0_col1\" class=\"col_heading level0 col1\" >Value</th>\n",
       "    </tr>\n",
       "  </thead>\n",
       "  <tbody>\n",
       "    <tr>\n",
       "      <th id=\"T_7413e_level0_row0\" class=\"row_heading level0 row0\" >0</th>\n",
       "      <td id=\"T_7413e_row0_col0\" class=\"data row0 col0\" >Session id</td>\n",
       "      <td id=\"T_7413e_row0_col1\" class=\"data row0 col1\" >123</td>\n",
       "    </tr>\n",
       "    <tr>\n",
       "      <th id=\"T_7413e_level0_row1\" class=\"row_heading level0 row1\" >1</th>\n",
       "      <td id=\"T_7413e_row1_col0\" class=\"data row1 col0\" >Target</td>\n",
       "      <td id=\"T_7413e_row1_col1\" class=\"data row1 col1\" >FraudFound_P</td>\n",
       "    </tr>\n",
       "    <tr>\n",
       "      <th id=\"T_7413e_level0_row2\" class=\"row_heading level0 row2\" >2</th>\n",
       "      <td id=\"T_7413e_row2_col0\" class=\"data row2 col0\" >Target type</td>\n",
       "      <td id=\"T_7413e_row2_col1\" class=\"data row2 col1\" >Binary</td>\n",
       "    </tr>\n",
       "    <tr>\n",
       "      <th id=\"T_7413e_level0_row3\" class=\"row_heading level0 row3\" >3</th>\n",
       "      <td id=\"T_7413e_row3_col0\" class=\"data row3 col0\" >Original data shape</td>\n",
       "      <td id=\"T_7413e_row3_col1\" class=\"data row3 col1\" >(26928, 35)</td>\n",
       "    </tr>\n",
       "    <tr>\n",
       "      <th id=\"T_7413e_level0_row4\" class=\"row_heading level0 row4\" >4</th>\n",
       "      <td id=\"T_7413e_row4_col0\" class=\"data row4 col0\" >Transformed data shape</td>\n",
       "      <td id=\"T_7413e_row4_col1\" class=\"data row4 col1\" >(26928, 35)</td>\n",
       "    </tr>\n",
       "    <tr>\n",
       "      <th id=\"T_7413e_level0_row5\" class=\"row_heading level0 row5\" >5</th>\n",
       "      <td id=\"T_7413e_row5_col0\" class=\"data row5 col0\" >Transformed train set shape</td>\n",
       "      <td id=\"T_7413e_row5_col1\" class=\"data row5 col1\" >(18849, 35)</td>\n",
       "    </tr>\n",
       "    <tr>\n",
       "      <th id=\"T_7413e_level0_row6\" class=\"row_heading level0 row6\" >6</th>\n",
       "      <td id=\"T_7413e_row6_col0\" class=\"data row6 col0\" >Transformed test set shape</td>\n",
       "      <td id=\"T_7413e_row6_col1\" class=\"data row6 col1\" >(8079, 35)</td>\n",
       "    </tr>\n",
       "    <tr>\n",
       "      <th id=\"T_7413e_level0_row7\" class=\"row_heading level0 row7\" >7</th>\n",
       "      <td id=\"T_7413e_row7_col0\" class=\"data row7 col0\" >Numeric features</td>\n",
       "      <td id=\"T_7413e_row7_col1\" class=\"data row7 col1\" >34</td>\n",
       "    </tr>\n",
       "    <tr>\n",
       "      <th id=\"T_7413e_level0_row8\" class=\"row_heading level0 row8\" >8</th>\n",
       "      <td id=\"T_7413e_row8_col0\" class=\"data row8 col0\" >Preprocess</td>\n",
       "      <td id=\"T_7413e_row8_col1\" class=\"data row8 col1\" >True</td>\n",
       "    </tr>\n",
       "    <tr>\n",
       "      <th id=\"T_7413e_level0_row9\" class=\"row_heading level0 row9\" >9</th>\n",
       "      <td id=\"T_7413e_row9_col0\" class=\"data row9 col0\" >Imputation type</td>\n",
       "      <td id=\"T_7413e_row9_col1\" class=\"data row9 col1\" >simple</td>\n",
       "    </tr>\n",
       "    <tr>\n",
       "      <th id=\"T_7413e_level0_row10\" class=\"row_heading level0 row10\" >10</th>\n",
       "      <td id=\"T_7413e_row10_col0\" class=\"data row10 col0\" >Numeric imputation</td>\n",
       "      <td id=\"T_7413e_row10_col1\" class=\"data row10 col1\" >mean</td>\n",
       "    </tr>\n",
       "    <tr>\n",
       "      <th id=\"T_7413e_level0_row11\" class=\"row_heading level0 row11\" >11</th>\n",
       "      <td id=\"T_7413e_row11_col0\" class=\"data row11 col0\" >Categorical imputation</td>\n",
       "      <td id=\"T_7413e_row11_col1\" class=\"data row11 col1\" >mode</td>\n",
       "    </tr>\n",
       "    <tr>\n",
       "      <th id=\"T_7413e_level0_row12\" class=\"row_heading level0 row12\" >12</th>\n",
       "      <td id=\"T_7413e_row12_col0\" class=\"data row12 col0\" >Fold Generator</td>\n",
       "      <td id=\"T_7413e_row12_col1\" class=\"data row12 col1\" >StratifiedKFold</td>\n",
       "    </tr>\n",
       "    <tr>\n",
       "      <th id=\"T_7413e_level0_row13\" class=\"row_heading level0 row13\" >13</th>\n",
       "      <td id=\"T_7413e_row13_col0\" class=\"data row13 col0\" >Fold Number</td>\n",
       "      <td id=\"T_7413e_row13_col1\" class=\"data row13 col1\" >10</td>\n",
       "    </tr>\n",
       "    <tr>\n",
       "      <th id=\"T_7413e_level0_row14\" class=\"row_heading level0 row14\" >14</th>\n",
       "      <td id=\"T_7413e_row14_col0\" class=\"data row14 col0\" >CPU Jobs</td>\n",
       "      <td id=\"T_7413e_row14_col1\" class=\"data row14 col1\" >-1</td>\n",
       "    </tr>\n",
       "    <tr>\n",
       "      <th id=\"T_7413e_level0_row15\" class=\"row_heading level0 row15\" >15</th>\n",
       "      <td id=\"T_7413e_row15_col0\" class=\"data row15 col0\" >Use GPU</td>\n",
       "      <td id=\"T_7413e_row15_col1\" class=\"data row15 col1\" >False</td>\n",
       "    </tr>\n",
       "    <tr>\n",
       "      <th id=\"T_7413e_level0_row16\" class=\"row_heading level0 row16\" >16</th>\n",
       "      <td id=\"T_7413e_row16_col0\" class=\"data row16 col0\" >Log Experiment</td>\n",
       "      <td id=\"T_7413e_row16_col1\" class=\"data row16 col1\" >False</td>\n",
       "    </tr>\n",
       "    <tr>\n",
       "      <th id=\"T_7413e_level0_row17\" class=\"row_heading level0 row17\" >17</th>\n",
       "      <td id=\"T_7413e_row17_col0\" class=\"data row17 col0\" >Experiment Name</td>\n",
       "      <td id=\"T_7413e_row17_col1\" class=\"data row17 col1\" >clf-default-name</td>\n",
       "    </tr>\n",
       "    <tr>\n",
       "      <th id=\"T_7413e_level0_row18\" class=\"row_heading level0 row18\" >18</th>\n",
       "      <td id=\"T_7413e_row18_col0\" class=\"data row18 col0\" >USI</td>\n",
       "      <td id=\"T_7413e_row18_col1\" class=\"data row18 col1\" >a8e8</td>\n",
       "    </tr>\n",
       "  </tbody>\n",
       "</table>\n"
      ],
      "text/plain": [
       "<pandas.io.formats.style.Styler at 0x2f24c86f910>"
      ]
     },
     "metadata": {},
     "output_type": "display_data"
    },
    {
     "data": {
      "text/plain": [
       "<pycaret.classification.oop.ClassificationExperiment at 0x2f24ca7f3d0>"
      ]
     },
     "execution_count": 22,
     "metadata": {},
     "output_type": "execute_result"
    }
   ],
   "source": [
    "setup(data, target='FraudFound_P', session_id=123)\n"
   ]
  },
  {
   "cell_type": "code",
   "execution_count": 23,
   "metadata": {},
   "outputs": [
    {
     "data": {
      "text/html": [],
      "text/plain": [
       "<IPython.core.display.HTML object>"
      ]
     },
     "metadata": {},
     "output_type": "display_data"
    },
    {
     "data": {
      "text/html": [],
      "text/plain": [
       "<IPython.core.display.HTML object>"
      ]
     },
     "metadata": {},
     "output_type": "display_data"
    },
    {
     "data": {
      "text/html": [],
      "text/plain": [
       "<IPython.core.display.HTML object>"
      ]
     },
     "metadata": {},
     "output_type": "display_data"
    }
   ],
   "source": [
    "best_model_com = compare_models()"
   ]
  },
  {
   "cell_type": "markdown",
   "metadata": {},
   "source": [
    "Extra Trees Classifier model may be the best model for this dataset "
   ]
  },
  {
   "cell_type": "markdown",
   "metadata": {},
   "source": [
    "\n",
    "Model Creation:\n",
    "We will test several model and choose the one with the best performance:\n",
    "\n",
    "Models: Logistic Regression - SVM - Gradient Boosting - KNN- RandomForest - Extra trees classifier.\n"
   ]
  },
  {
   "cell_type": "code",
   "execution_count": 24,
   "metadata": {},
   "outputs": [],
   "source": [
    "log_model = LogisticRegression(max_iter=1000)\n",
    "kn_model = KNeighborsClassifier()\n",
    "svc = SVC()\n",
    "gb = GradientBoostingClassifier()\n",
    "rf = RandomForestClassifier()\n",
    "etc = ExtraTreesClassifier()\n",
    "\n",
    "models = [log_model, kn_model, svc, gb, rf, etc ]\n"
   ]
  },
  {
   "cell_type": "code",
   "execution_count": 25,
   "metadata": {},
   "outputs": [
    {
     "name": "stdout",
     "output_type": "stream",
     "text": [
      "Accuracy score for  LogisticRegression(C=1.0, class_weight=None, dual=False, fit_intercept=True,\n",
      "                   intercept_scaling=1, l1_ratio=None, max_iter=1000,\n",
      "                   multi_class='auto', n_jobs=None, penalty='l2',\n",
      "                   random_state=None, solver='lbfgs', tol=0.0001, verbose=0,\n",
      "                   warm_start=False) is 0.6640106241699867\n",
      "Precision score is 0.13541666666666666\n",
      "[[461 249]\n",
      " [  4  39]]\n",
      "              precision    recall  f1-score   support\n",
      "\n",
      "           0       0.65      0.99      0.78       465\n",
      "           1       0.91      0.14      0.24       288\n",
      "\n",
      "    accuracy                           0.66       753\n",
      "   macro avg       0.78      0.56      0.51       753\n",
      "weighted avg       0.75      0.66      0.57       753\n",
      "\n",
      "----------------------------------------\n",
      "Accuracy score for  KNeighborsClassifier(algorithm='auto', leaf_size=30, metric='minkowski',\n",
      "                     metric_params=None, n_jobs=None, n_neighbors=5, p=2,\n",
      "                     weights='uniform') is 0.7702523240371846\n",
      "Precision score is 0.12643678160919541\n",
      "[[558 152]\n",
      " [ 21  22]]\n",
      "              precision    recall  f1-score   support\n",
      "\n",
      "           0       0.79      0.96      0.87       579\n",
      "           1       0.51      0.13      0.20       174\n",
      "\n",
      "    accuracy                           0.77       753\n",
      "   macro avg       0.65      0.55      0.53       753\n",
      "weighted avg       0.72      0.77      0.71       753\n",
      "\n",
      "----------------------------------------\n",
      "Accuracy score for  SVC(C=1.0, break_ties=False, cache_size=200, class_weight=None, coef0=0.0,\n",
      "    decision_function_shape='ovr', degree=3, gamma='scale', kernel='rbf',\n",
      "    max_iter=-1, probability=False, random_state=None, shrinking=True,\n",
      "    tol=0.001, verbose=False) is 0.7782204515272244\n",
      "Precision score is 0.15555555555555556\n",
      "[[558 152]\n",
      " [ 15  28]]\n",
      "              precision    recall  f1-score   support\n",
      "\n",
      "           0       0.79      0.97      0.87       573\n",
      "           1       0.65      0.16      0.25       180\n",
      "\n",
      "    accuracy                           0.78       753\n",
      "   macro avg       0.72      0.56      0.56       753\n",
      "weighted avg       0.75      0.78      0.72       753\n",
      "\n",
      "----------------------------------------\n",
      "Accuracy score for  GradientBoostingClassifier(ccp_alpha=0.0, criterion='friedman_mse', init=None,\n",
      "                           learning_rate=0.1, loss='log_loss', max_depth=3,\n",
      "                           max_features=None, max_leaf_nodes=None,\n",
      "                           min_impurity_decrease=0.0, min_samples_leaf=1,\n",
      "                           min_samples_split=2, min_weight_fraction_leaf=0.0,\n",
      "                           n_estimators=100, n_iter_no_change=None,\n",
      "                           random_state=None, subsample=1.0, tol=0.0001,\n",
      "                           validation_fraction=0.1, verbose=0,\n",
      "                           warm_start=False) is 0.9402390438247012\n",
      "Precision score is 0.375\n",
      "[[705   5]\n",
      " [ 40   3]]\n",
      "              precision    recall  f1-score   support\n",
      "\n",
      "           0       0.99      0.95      0.97       745\n",
      "           1       0.07      0.38      0.12         8\n",
      "\n",
      "    accuracy                           0.94       753\n",
      "   macro avg       0.53      0.66      0.54       753\n",
      "weighted avg       0.98      0.94      0.96       753\n",
      "\n",
      "----------------------------------------\n",
      "Accuracy score for  RandomForestClassifier(bootstrap=True, ccp_alpha=0.0, class_weight=None,\n",
      "                       criterion='gini', max_depth=None, max_features='sqrt',\n",
      "                       max_leaf_nodes=None, max_samples=None,\n",
      "                       min_impurity_decrease=0.0, min_samples_leaf=1,\n",
      "                       min_samples_split=2, min_weight_fraction_leaf=0.0,\n",
      "                       n_estimators=100, n_jobs=None, oob_score=False,\n",
      "                       random_state=None, verbose=0, warm_start=False) is 0.9389110225763613\n",
      "Precision score is 0.2\n",
      "[[706   4]\n",
      " [ 42   1]]\n",
      "              precision    recall  f1-score   support\n",
      "\n",
      "           0       0.99      0.94      0.97       748\n",
      "           1       0.02      0.20      0.04         5\n",
      "\n",
      "    accuracy                           0.94       753\n",
      "   macro avg       0.51      0.57      0.51       753\n",
      "weighted avg       0.99      0.94      0.96       753\n",
      "\n",
      "----------------------------------------\n",
      "Accuracy score for  ExtraTreesClassifier(bootstrap=False, ccp_alpha=0.0, class_weight=None,\n",
      "                     criterion='gini', max_depth=None, max_features='sqrt',\n",
      "                     max_leaf_nodes=None, max_samples=None,\n",
      "                     min_impurity_decrease=0.0, min_samples_leaf=1,\n",
      "                     min_samples_split=2, min_weight_fraction_leaf=0.0,\n",
      "                     n_estimators=100, n_jobs=None, oob_score=False,\n",
      "                     random_state=None, verbose=0, warm_start=False) is 0.9349269588313412\n",
      "Precision score is 0.125\n",
      "[[703   7]\n",
      " [ 42   1]]\n",
      "              precision    recall  f1-score   support\n",
      "\n",
      "           0       0.99      0.94      0.97       745\n",
      "           1       0.02      0.12      0.04         8\n",
      "\n",
      "    accuracy                           0.93       753\n",
      "   macro avg       0.51      0.53      0.50       753\n",
      "weighted avg       0.98      0.93      0.96       753\n",
      "\n",
      "----------------------------------------\n"
     ]
    }
   ],
   "source": [
    "for model in models:\n",
    "     model.fit(X_train_ad,y_train_ad)\n",
    "     y_pred = model.predict(X_test)\n",
    "\n",
    "     print('Accuracy score for ', model, 'is', accuracy_score(y_test, y_pred))\n",
    "     print('Precision score is', precision_score(y_test, y_pred))\n",
    "     print(confusion_matrix(y_test, y_pred))\n",
    "     print(classification_report(y_pred, y_test))\n",
    "     print(40*'-')"
   ]
  },
  {
   "cell_type": "markdown",
   "metadata": {},
   "source": [
    "While the accuracy scores of the models are satisfactory, since this is a classification problem, our focus should be on enhancing the precision score."
   ]
  },
  {
   "cell_type": "markdown",
   "metadata": {},
   "source": [
    "### PCA method for feature reduction"
   ]
  },
  {
   "cell_type": "code",
   "execution_count": 26,
   "metadata": {},
   "outputs": [
    {
     "data": {
      "text/plain": [
       "((15044, 34), (15044,))"
      ]
     },
     "execution_count": 26,
     "metadata": {},
     "output_type": "execute_result"
    }
   ],
   "source": [
    "X.shape, y.shape"
   ]
  },
  {
   "cell_type": "markdown",
   "metadata": {},
   "source": [
    "Plot the cumulative variance ratio with number of components."
   ]
  },
  {
   "cell_type": "code",
   "execution_count": 27,
   "metadata": {},
   "outputs": [],
   "source": [
    "data_pca = PCA().fit(X)\n",
    "variance = data_pca.explained_variance_ratio_.cumsum()"
   ]
  },
  {
   "cell_type": "code",
   "execution_count": 28,
   "metadata": {},
   "outputs": [
    {
     "data": {
      "text/plain": [
       "Text(0.5, 1.0, 'Cumulative variance ratio explained by PCA components for summary statistics')"
      ]
     },
     "execution_count": 28,
     "metadata": {},
     "output_type": "execute_result"
    },
    {
     "data": {
      "image/png": "[encoded data removed]",
      "text/plain": [
       "<Figure size 800x500 with 1 Axes>"
      ]
     },
     "metadata": {},
     "output_type": "display_data"
    }
   ],
   "source": [
    "plt.subplots(figsize=(8, 5))\n",
    "plt.plot(data_pca.explained_variance_ratio_.cumsum())\n",
    "plt.xlabel('Component #')\n",
    "plt.ylabel('Cumulative ratio variance')\n",
    "plt.title('Cumulative variance ratio explained by PCA components for summary statistics')"
   ]
  },
  {
   "cell_type": "markdown",
   "metadata": {},
   "source": [
    "The first thirteen components seem to account for over 95% of the variance."
   ]
  },
  {
   "cell_type": "code",
   "execution_count": 29,
   "metadata": {},
   "outputs": [
    {
     "name": "stdout",
     "output_type": "stream",
     "text": [
      "Resampled dataset shape Counter({0: 14161, 1: 14117})\n"
     ]
    }
   ],
   "source": [
    "# Over sampling using imblearn librery\n",
    "\n",
    "ada = ADASYN(random_state=43)\n",
    "X_new, y_new = ada.fit_resample(X, y)\n",
    "print('Resampled dataset shape %s' % Counter(y_new))\n",
    "\n"
   ]
  },
  {
   "cell_type": "code",
   "execution_count": 30,
   "metadata": {},
   "outputs": [
    {
     "data": {
      "text/plain": [
       "((22622, 34), (5656, 34))"
      ]
     },
     "execution_count": 30,
     "metadata": {},
     "output_type": "execute_result"
    }
   ],
   "source": [
    "# Devide data in to train and test\n",
    "X_train, X_test, y_train, y_test = train_test_split(X_new, y_new, test_size=0.2, random_state=123)\n",
    "X_train.shape, X_test.shape"
   ]
  },
  {
   "cell_type": "code",
   "execution_count": 31,
   "metadata": {},
   "outputs": [],
   "source": [
    "pca = PCA(n_components=13)\n",
    "X_train_pca = pca.fit_transform(X_train)\n",
    "X_test_pca = pca.transform(X_test)"
   ]
  },
  {
   "cell_type": "code",
   "execution_count": 32,
   "metadata": {},
   "outputs": [],
   "source": [
    "# Modeling\n",
    "\n",
    "svc = SVC()\n",
    "knc = KNeighborsClassifier()\n",
    "rfc = RandomForestClassifier()\n",
    "etc = ExtraTreesClassifier()\n"
   ]
  },
  {
   "cell_type": "code",
   "execution_count": 33,
   "metadata": {},
   "outputs": [],
   "source": [
    "clfs = {\n",
    "    'SVC' : svc,\n",
    "    'KN' : knc,  \n",
    "    'RF': rfc, \n",
    "    'ETC': etc,\n",
    "}"
   ]
  },
  {
   "cell_type": "code",
   "execution_count": 34,
   "metadata": {},
   "outputs": [],
   "source": [
    "def train_classifier(clf,X_train,y_train,X_test,y_test):\n",
    "    clf.fit(X_train,y_train)\n",
    "    y_pred = clf.predict(X_test)\n",
    "    accuracy = accuracy_score(y_test,y_pred)\n",
    "    precision = precision_score(y_test,y_pred)\n",
    "    confusion_m = confusion_matrix(y_test, y_pred)\n",
    "    classification_rpt = classification_report(y_test, y_pred)\n",
    "    \n",
    "    return accuracy, precision, confusion_m, classification_rpt"
   ]
  },
  {
   "cell_type": "code",
   "execution_count": 35,
   "metadata": {},
   "outputs": [
    {
     "name": "stdout",
     "output_type": "stream",
     "text": [
      "For  SVC\n",
      "Accuracy -  0.791018387553041\n",
      "Precision -  0.726134149735597\n",
      "              precision    recall  f1-score   support\n",
      "\n",
      "           0       0.90      0.65      0.76      2849\n",
      "           1       0.73      0.93      0.82      2807\n",
      "\n",
      "    accuracy                           0.79      5656\n",
      "   macro avg       0.82      0.79      0.79      5656\n",
      "weighted avg       0.82      0.79      0.79      5656\n",
      "\n",
      "----------------------------------------\n",
      "[[1865  984]\n",
      " [ 198 2609]]\n",
      "For  KN\n",
      "Accuracy -  0.8642149929278642\n",
      "Precision -  0.7851748251748252\n",
      "              precision    recall  f1-score   support\n",
      "\n",
      "           0       1.00      0.73      0.84      2849\n",
      "           1       0.79      1.00      0.88      2807\n",
      "\n",
      "    accuracy                           0.86      5656\n",
      "   macro avg       0.89      0.87      0.86      5656\n",
      "weighted avg       0.89      0.86      0.86      5656\n",
      "\n",
      "----------------------------------------\n",
      "[[2081  768]\n",
      " [   0 2807]]\n",
      "For  RF\n",
      "Accuracy -  0.9441301272984441\n",
      "Precision -  0.9178128144917813\n",
      "              precision    recall  f1-score   support\n",
      "\n",
      "           0       0.97      0.91      0.94      2849\n",
      "           1       0.92      0.97      0.95      2807\n",
      "\n",
      "    accuracy                           0.94      5656\n",
      "   macro avg       0.95      0.94      0.94      5656\n",
      "weighted avg       0.95      0.94      0.94      5656\n",
      "\n",
      "----------------------------------------\n",
      "[[2604  245]\n",
      " [  71 2736]]\n",
      "For  ETC\n",
      "Accuracy -  0.9660537482319661\n",
      "Precision -  0.9570080391471514\n",
      "              precision    recall  f1-score   support\n",
      "\n",
      "           0       0.98      0.96      0.97      2849\n",
      "           1       0.96      0.98      0.97      2807\n",
      "\n",
      "    accuracy                           0.97      5656\n",
      "   macro avg       0.97      0.97      0.97      5656\n",
      "weighted avg       0.97      0.97      0.97      5656\n",
      "\n",
      "----------------------------------------\n",
      "[[2726  123]\n",
      " [  69 2738]]\n"
     ]
    }
   ],
   "source": [
    "accuracy_scores = []\n",
    "precision_scores = []\n",
    "\n",
    "for name,clf in clfs.items():\n",
    "    \n",
    "    current_accuracy, current_precision, confusion_m, classification_rpt= train_classifier(clf, X_train_pca,y_train,X_test_pca,y_test)\n",
    "    \n",
    "    print(\"For \",name)\n",
    "    print(\"Accuracy - \",current_accuracy)\n",
    "    print(\"Precision - \",current_precision)\n",
    "    print(classification_rpt)\n",
    "    print(40*'-')\n",
    "    print(confusion_m)\n",
    "    \n",
    "    accuracy_scores.append(current_accuracy)\n",
    "    precision_scores.append(current_precision)"
   ]
  },
  {
   "cell_type": "code",
   "execution_count": 36,
   "metadata": {},
   "outputs": [
    {
     "data": {
      "text/html": [
       "<div>\n",
       "<style scoped>\n",
       "    .dataframe tbody tr th:only-of-type {\n",
       "        vertical-align: middle;\n",
       "    }\n",
       "\n",
       "    .dataframe tbody tr th {\n",
       "        vertical-align: top;\n",
       "    }\n",
       "\n",
       "    .dataframe thead th {\n",
       "        text-align: right;\n",
       "    }\n",
       "</style>\n",
       "<table border=\"1\" class=\"dataframe\">\n",
       "  <thead>\n",
       "    <tr style=\"text-align: right;\">\n",
       "      <th></th>\n",
       "      <th>Algorithm</th>\n",
       "      <th>Accuracy</th>\n",
       "      <th>Precision</th>\n",
       "    </tr>\n",
       "  </thead>\n",
       "  <tbody>\n",
       "    <tr>\n",
       "      <th>3</th>\n",
       "      <td>ETC</td>\n",
       "      <td>0.966054</td>\n",
       "      <td>0.957008</td>\n",
       "    </tr>\n",
       "    <tr>\n",
       "      <th>2</th>\n",
       "      <td>RF</td>\n",
       "      <td>0.944130</td>\n",
       "      <td>0.917813</td>\n",
       "    </tr>\n",
       "    <tr>\n",
       "      <th>1</th>\n",
       "      <td>KN</td>\n",
       "      <td>0.864215</td>\n",
       "      <td>0.785175</td>\n",
       "    </tr>\n",
       "    <tr>\n",
       "      <th>0</th>\n",
       "      <td>SVC</td>\n",
       "      <td>0.791018</td>\n",
       "      <td>0.726134</td>\n",
       "    </tr>\n",
       "  </tbody>\n",
       "</table>\n",
       "</div>"
      ],
      "text/plain": [
       "  Algorithm  Accuracy  Precision\n",
       "3       ETC  0.966054   0.957008\n",
       "2        RF  0.944130   0.917813\n",
       "1        KN  0.864215   0.785175\n",
       "0       SVC  0.791018   0.726134"
      ]
     },
     "execution_count": 36,
     "metadata": {},
     "output_type": "execute_result"
    }
   ],
   "source": [
    "performance_df = pd.DataFrame({'Algorithm':clfs.keys(),'Accuracy':accuracy_scores,'Precision':precision_scores}).sort_values('Precision',ascending=False)\n",
    "performance_df"
   ]
  },
  {
   "cell_type": "markdown",
   "metadata": {},
   "source": [
    "### Hyperparameter tuning with Gridsearchcv"
   ]
  },
  {
   "cell_type": "code",
   "execution_count": 37,
   "metadata": {},
   "outputs": [],
   "source": [
    "# Hyperparameter tuning\n",
    "model_hyperparameters = {'SVC_hyperparameters': {'C' : [1,5,10]},\n",
    "                         'KNN_hyperparameters' : {'n_neighbors' : [3,5,7]},\n",
    "                         'random_forest_hyperparameters' : {'n_estimators' : range(50,200,20), 'max_depth' : [2,4,6,7]},\n",
    "                         'ETC_hyperparameters': {'n_estimators':range(100,200,20), 'min_samples_split':[2,4,6]}\n",
    "                         }\n",
    "models2 = [svc, kn_model, rf, etc ]\n"
   ]
  },
  {
   "cell_type": "code",
   "execution_count": 38,
   "metadata": {},
   "outputs": [],
   "source": [
    "result = []\n",
    "i = 0     \n",
    "model_keys = list(model_hyperparameters.keys())\n",
    "\n",
    "for model in models2:\n",
    "    key = model_keys[i]\n",
    "    params = model_hyperparameters[key]\n",
    "    i += 1\n",
    "\n",
    "    # print(model)\n",
    "    # print(params)\n",
    "    # print(30* '-')\n",
    "\n",
    "\n",
    "    classifier = GridSearchCV(model, params, cv=5)\n",
    "    classifier.fit(X_train_pca, y_train)\n",
    "    result.append({\n",
    "        'model used' : model,\n",
    "        'highest score' : classifier.best_score_,\n",
    "        'best hyperparameters' : classifier.best_params_ })\n",
    "    result_dataframe = pd.DataFrame(result, columns = ['model used','highest score','best hyperparameters'])\n",
    "    \n",
    "    "
   ]
  },
  {
   "cell_type": "code",
   "execution_count": 39,
   "metadata": {},
   "outputs": [
    {
     "data": {
      "text/html": [
       "<div>\n",
       "<style scoped>\n",
       "    .dataframe tbody tr th:only-of-type {\n",
       "        vertical-align: middle;\n",
       "    }\n",
       "\n",
       "    .dataframe tbody tr th {\n",
       "        vertical-align: top;\n",
       "    }\n",
       "\n",
       "    .dataframe thead th {\n",
       "        text-align: right;\n",
       "    }\n",
       "</style>\n",
       "<table border=\"1\" class=\"dataframe\">\n",
       "  <thead>\n",
       "    <tr style=\"text-align: right;\">\n",
       "      <th></th>\n",
       "      <th>model used</th>\n",
       "      <th>highest score</th>\n",
       "      <th>best hyperparameters</th>\n",
       "    </tr>\n",
       "  </thead>\n",
       "  <tbody>\n",
       "    <tr>\n",
       "      <th>0</th>\n",
       "      <td>SVC(C=1.0, break_ties=False, cache_size=200, c...</td>\n",
       "      <td>0.859429</td>\n",
       "      <td>{'C': 10}</td>\n",
       "    </tr>\n",
       "    <tr>\n",
       "      <th>1</th>\n",
       "      <td>KNeighborsClassifier(algorithm='auto', leaf_si...</td>\n",
       "      <td>0.878481</td>\n",
       "      <td>{'n_neighbors': 3}</td>\n",
       "    </tr>\n",
       "    <tr>\n",
       "      <th>2</th>\n",
       "      <td>(DecisionTreeClassifier(ccp_alpha=0.0, class_w...</td>\n",
       "      <td>0.739546</td>\n",
       "      <td>{'max_depth': 7, 'n_estimators': 130}</td>\n",
       "    </tr>\n",
       "    <tr>\n",
       "      <th>3</th>\n",
       "      <td>(ExtraTreeClassifier(ccp_alpha=0.0, class_weig...</td>\n",
       "      <td>0.966228</td>\n",
       "      <td>{'min_samples_split': 2, 'n_estimators': 180}</td>\n",
       "    </tr>\n",
       "  </tbody>\n",
       "</table>\n",
       "</div>"
      ],
      "text/plain": [
       "                                          model used  highest score  \\\n",
       "0  SVC(C=1.0, break_ties=False, cache_size=200, c...       0.859429   \n",
       "1  KNeighborsClassifier(algorithm='auto', leaf_si...       0.878481   \n",
       "2  (DecisionTreeClassifier(ccp_alpha=0.0, class_w...       0.739546   \n",
       "3  (ExtraTreeClassifier(ccp_alpha=0.0, class_weig...       0.966228   \n",
       "\n",
       "                            best hyperparameters  \n",
       "0                                      {'C': 10}  \n",
       "1                             {'n_neighbors': 3}  \n",
       "2          {'max_depth': 7, 'n_estimators': 130}  \n",
       "3  {'min_samples_split': 2, 'n_estimators': 180}  "
      ]
     },
     "execution_count": 39,
     "metadata": {},
     "output_type": "execute_result"
    }
   ],
   "source": [
    "result_dataframe"
   ]
  },
  {
   "cell_type": "markdown",
   "metadata": {},
   "source": [
    "Final_Model_Selection"
   ]
  },
  {
   "cell_type": "code",
   "execution_count": 40,
   "metadata": {},
   "outputs": [],
   "source": [
    "# Lets apply this parameters models and get classification report\n",
    "svc = SVC(C=10)\n",
    "knc = KNeighborsClassifier(n_neighbors=3)\n",
    "rfc = RandomForestClassifier(max_depth=7, n_estimators=190)\n",
    "etc = ExtraTreesClassifier(min_samples_split=2,n_estimators=180 )\n"
   ]
  },
  {
   "cell_type": "code",
   "execution_count": 41,
   "metadata": {},
   "outputs": [],
   "source": [
    "clfs2 = {\n",
    "    'SVC' : svc,\n",
    "    'KN' : knc,  \n",
    "    'RF': rfc, \n",
    "    'ETC': etc,}"
   ]
  },
  {
   "cell_type": "code",
   "execution_count": 42,
   "metadata": {},
   "outputs": [
    {
     "name": "stdout",
     "output_type": "stream",
     "text": [
      "For  SVC\n",
      "Accuracy -  0.8635077793493635\n",
      "Precision -  0.8020184030869695\n",
      "              precision    recall  f1-score   support\n",
      "\n",
      "           0       0.95      0.77      0.85      2849\n",
      "           1       0.80      0.96      0.88      2807\n",
      "\n",
      "    accuracy                           0.86      5656\n",
      "   macro avg       0.88      0.86      0.86      5656\n",
      "weighted avg       0.88      0.86      0.86      5656\n",
      "\n"
     ]
    },
    {
     "data": {
      "image/png": "[encoded data removed]",
      "text/plain": [
       "<Figure size 400x400 with 2 Axes>"
      ]
     },
     "metadata": {},
     "output_type": "display_data"
    },
    {
     "name": "stdout",
     "output_type": "stream",
     "text": [
      "----------------------------------------\n",
      "For  KN\n",
      "Accuracy -  0.887906647807638\n",
      "Precision -  0.8161187081757346\n",
      "              precision    recall  f1-score   support\n",
      "\n",
      "           0       1.00      0.78      0.87      2849\n",
      "           1       0.82      1.00      0.90      2807\n",
      "\n",
      "    accuracy                           0.89      5656\n",
      "   macro avg       0.91      0.89      0.89      5656\n",
      "weighted avg       0.91      0.89      0.89      5656\n",
      "\n"
     ]
    },
    {
     "data": {
      "image/png": "[encoded data removed]",
      "text/plain": [
       "<Figure size 400x400 with 2 Axes>"
      ]
     },
     "metadata": {},
     "output_type": "display_data"
    },
    {
     "name": "stdout",
     "output_type": "stream",
     "text": [
      "----------------------------------------\n",
      "For  RF\n",
      "Accuracy -  0.7422206506364922\n",
      "Precision -  0.6778275771157395\n",
      "              precision    recall  f1-score   support\n",
      "\n",
      "           0       0.87      0.57      0.69      2849\n",
      "           1       0.68      0.92      0.78      2807\n",
      "\n",
      "    accuracy                           0.74      5656\n",
      "   macro avg       0.78      0.74      0.73      5656\n",
      "weighted avg       0.78      0.74      0.73      5656\n",
      "\n"
     ]
    },
    {
     "data": {
      "image/png": "[encoded data removed]",
      "text/plain": [
       "<Figure size 400x400 with 2 Axes>"
      ]
     },
     "metadata": {},
     "output_type": "display_data"
    },
    {
     "name": "stdout",
     "output_type": "stream",
     "text": [
      "----------------------------------------\n",
      "For  ETC\n",
      "Accuracy -  0.9694130127298444\n",
      "Precision -  0.9598463687150838\n",
      "              precision    recall  f1-score   support\n",
      "\n",
      "           0       0.98      0.96      0.97      2849\n",
      "           1       0.96      0.98      0.97      2807\n",
      "\n",
      "    accuracy                           0.97      5656\n",
      "   macro avg       0.97      0.97      0.97      5656\n",
      "weighted avg       0.97      0.97      0.97      5656\n",
      "\n"
     ]
    },
    {
     "data": {
      "image/png": "[encoded data removed]",
      "text/plain": [
       "<Figure size 400x400 with 2 Axes>"
      ]
     },
     "metadata": {},
     "output_type": "display_data"
    },
    {
     "name": "stdout",
     "output_type": "stream",
     "text": [
      "----------------------------------------\n"
     ]
    }
   ],
   "source": [
    "accuracy_scores = []\n",
    "precision_scores = []\n",
    "\n",
    "for name,clf in clfs2.items():\n",
    "    \n",
    "    current_accuracy, current_precision, confusion_m, classification_rpt= train_classifier(clf, X_train_pca,y_train,X_test_pca,y_test)\n",
    "    \n",
    "    print(\"For \",name)\n",
    "    print(\"Accuracy - \",current_accuracy)\n",
    "    print(\"Precision - \",current_precision)\n",
    "    print(classification_rpt)\n",
    "    \n",
    "    accuracy_scores.append(current_accuracy)\n",
    "    precision_scores.append(current_precision)\n",
    "    \n",
    "    fig, ax = plt.subplots(figsize=(4,4))\n",
    "    display_cm = ConfusionMatrixDisplay(confusion_matrix = confusion_m, \n",
    "                                        display_labels = ['Not Fraud', 'Fraud'])\n",
    "    ax.grid(False)\n",
    "    display_cm.plot(ax = ax)\n",
    "    display_cm.ax_.set_title(f'{name} Model')\n",
    "    plt.show()\n",
    "    print(40*'-')"
   ]
  },
  {
   "cell_type": "code",
   "execution_count": 43,
   "metadata": {},
   "outputs": [
    {
     "data": {
      "text/html": [
       "<div>\n",
       "<style scoped>\n",
       "    .dataframe tbody tr th:only-of-type {\n",
       "        vertical-align: middle;\n",
       "    }\n",
       "\n",
       "    .dataframe tbody tr th {\n",
       "        vertical-align: top;\n",
       "    }\n",
       "\n",
       "    .dataframe thead th {\n",
       "        text-align: right;\n",
       "    }\n",
       "</style>\n",
       "<table border=\"1\" class=\"dataframe\">\n",
       "  <thead>\n",
       "    <tr style=\"text-align: right;\">\n",
       "      <th></th>\n",
       "      <th>Algorithm</th>\n",
       "      <th>Accuracy</th>\n",
       "      <th>Precision</th>\n",
       "    </tr>\n",
       "  </thead>\n",
       "  <tbody>\n",
       "    <tr>\n",
       "      <th>3</th>\n",
       "      <td>ETC</td>\n",
       "      <td>0.969413</td>\n",
       "      <td>0.959846</td>\n",
       "    </tr>\n",
       "    <tr>\n",
       "      <th>1</th>\n",
       "      <td>KN</td>\n",
       "      <td>0.887907</td>\n",
       "      <td>0.816119</td>\n",
       "    </tr>\n",
       "    <tr>\n",
       "      <th>0</th>\n",
       "      <td>SVC</td>\n",
       "      <td>0.863508</td>\n",
       "      <td>0.802018</td>\n",
       "    </tr>\n",
       "    <tr>\n",
       "      <th>2</th>\n",
       "      <td>RF</td>\n",
       "      <td>0.742221</td>\n",
       "      <td>0.677828</td>\n",
       "    </tr>\n",
       "  </tbody>\n",
       "</table>\n",
       "</div>"
      ],
      "text/plain": [
       "  Algorithm  Accuracy  Precision\n",
       "3       ETC  0.969413   0.959846\n",
       "1        KN  0.887907   0.816119\n",
       "0       SVC  0.863508   0.802018\n",
       "2        RF  0.742221   0.677828"
      ]
     },
     "execution_count": 43,
     "metadata": {},
     "output_type": "execute_result"
    }
   ],
   "source": [
    "performance_df2 = pd.DataFrame({'Algorithm':clfs.keys(),'Accuracy':accuracy_scores,'Precision':precision_scores}).sort_values('Precision',ascending=False)\n",
    "performance_df2"
   ]
  },
  {
   "cell_type": "markdown",
   "metadata": {},
   "source": [
    "The Extra Trees Classifier emerges as the optimal model for this dataset, showcasing impressive accuracy, precision score, and F1 score."
   ]
  }
 ],
 "metadata": {
  "kernelspec": {
   "display_name": "Python 3",
   "language": "python",
   "name": "python3"
  },
  "language_info": {
   "codemirror_mode": {
    "name": "ipython",
    "version": 3
   },
   "file_extension": ".py",
   "mimetype": "text/x-python",
   "name": "python",
   "nbconvert_exporter": "python",
   "pygments_lexer": "ipython3",
   "version": "3.11.3"
  }
 },
 "nbformat": 4,
 "nbformat_minor": 2
}
